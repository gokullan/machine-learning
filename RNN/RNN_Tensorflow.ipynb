{
 "cells": [
  {
   "attachments": {},
   "cell_type": "markdown",
   "id": "19cfebb5",
   "metadata": {},
   "source": [
    "# <center>Understanding Recurrent Neural Networks in Tensorflow</center>\n",
    "\n",
    "Are you in a position where you feel like you've a good theoretical knowlege on these Deep Learning models, but when you look at the API docs, everything seems completely different (Has your brain underfit)? If so, then this notebook is just for you! It maps the concepts and equations that you know, to the corresponding APIs in Tensorflow. Let's get started!\n",
    "\n",
    "**Note**: It is assumed that the reader has a reasonably good theoretical knowledge on these topics."
   ]
  },
  {
   "attachments": {},
   "cell_type": "markdown",
   "id": "cfd0cadb",
   "metadata": {},
   "source": [
    "## Table of Contents\n",
    "1.  [Visualizing the RNN](#visualize)\n",
    "2.  [Clarifying the Dimensions](#dims)\n",
    "3.  [The SimpleRNNCell API](#simplernncell)\n",
    "4.  [The SimpleRNN API](#simplernn)\n",
    "5.  [The StackedRNNCells API](#stacked)\n",
    "6.  [The RNN API](#rnn)"
   ]
  },
  {
   "attachments": {},
   "cell_type": "markdown",
   "id": "64316079",
   "metadata": {},
   "source": [
    "## Visualizing the RNN <a id=\"visualize\"></a>\n",
    "<img align=\"left\" src=\"./images/RNN_rolled.png\" width=\"500px\" style=\"margin-right: 50px;\"/>\n",
    "\n",
    "### Notations\n",
    "-   $ X_{t} $: Input at time $ t $\n",
    "-   $ h_{t} $: State at time $ t $\n",
    "-   $ o_{t} $: Output at time $ t $\n",
    "-   $ U $: Input weights\n",
    "-   $ W $: State weights \n",
    "-   $ b $: Bias (not shown)\n",
    "\n",
    "-   `feature`: Number of input-features \n",
    "-   `timestamp` or `T`: Number of time-steps present in an input sample\n",
    "-   `batch`: Total number of input samples fed to the model\n",
    "<br clear=\"left\">\n",
    "\n",
    "**Note**\n",
    "-   The last 3 notations are in accordance with the Tensorflow API documentation\n",
    "-   The output of an RNN cell is the same as the newly calculated state. Hence the output block will **not be shown** in the upcoming diagrams.\n",
    "\n",
    "### Equations\n",
    "\n",
    "$ h_t = Wh_{t-1} + UX_t + b, $ for $ 1 \\le t \\le T $"
   ]
  },
  {
   "attachments": {},
   "cell_type": "markdown",
   "id": "996ad061",
   "metadata": {},
   "source": [
    "### The unrolled version\n",
    "<img src=\"./images/RNN_unrolled.png\" style=\"margin-right: 50px;\"/>"
   ]
  },
  {
   "attachments": {},
   "cell_type": "markdown",
   "id": "45a7d1a5",
   "metadata": {},
   "source": [
    "## Clarifying the dimensions <a id=\"dims\"></a>\n",
    "Without loss of generality, let the $ i^{th} $ input sample be denoted as $ X^{(i)} $.\n",
    "\n",
    "$ X^{(i)} = \\begin{bmatrix} X^{(i)}_1 \\\\ X^{(i)}_2 \\\\ \\vdots \\\\ X^{(i)}_T \\end{bmatrix} $\n",
    "\n",
    "Each $ X^{(i)}_t $ is of size `feature`, which means that each sample $ X^{(i)} $ has dimensions `feature x T` or `feature x timestamp`\n",
    "\n",
    "The dimensions of $ h_t $ are specified by the user with the `units` parameter."
   ]
  },
  {
   "attachments": {},
   "cell_type": "markdown",
   "id": "515c079c",
   "metadata": {},
   "source": [
    "Let's create some sample input to play with the APIs"
   ]
  },
  {
   "cell_type": "code",
   "execution_count": 1,
   "id": "62f4bfa8",
   "metadata": {},
   "outputs": [],
   "source": [
    "import numpy as np\n",
    "import tensorflow as tf\n",
    "\n",
    "batch = 4 \n",
    "timestamp = 5 \n",
    "feature = 1\n",
    "\n",
    "inputs_to_play = np.random.random(\n",
    "    size=(batch, timestamp, feature)\n",
    ")"
   ]
  },
  {
   "attachments": {},
   "cell_type": "markdown",
   "id": "15f2858e",
   "metadata": {},
   "source": [
    "## The `SimpleRNNCell` API <a id=\"simplernncell\"></a>\n",
    "This is an RNN *cell* , which when *called*, takes 2 arguments - $ X_{t} $ and $ h_{t-1} $ to produce the output and the next state $ h_{t} $.\n",
    "As previously stated, the output is the same as the new hidden state\n",
    "\n",
    "Because this is a *cell*, it performs the computation for only the provided timestep. Thus, the input to this API is of shape `[batch, feature]`"
   ]
  },
  {
   "cell_type": "code",
   "execution_count": 2,
   "id": "ecc59e75",
   "metadata": {},
   "outputs": [],
   "source": [
    "output_units = 2\n",
    "\n",
    "# create the RNN cell\n",
    "rnn_cell = tf.keras.layers.SimpleRNNCell(\n",
    "    units=output_units,  # this refers to the number of output units in the RNN\n",
    "    activation=None,\n",
    ")"
   ]
  },
  {
   "cell_type": "code",
   "execution_count": 3,
   "id": "e512ebf8",
   "metadata": {},
   "outputs": [
    {
     "name": "stdout",
     "output_type": "stream",
     "text": [
      "tf.Tensor(\n",
      "[[0.47837692 0.9902846 ]\n",
      " [0.6551285  1.0892183 ]\n",
      " [0.7130833  1.1216575 ]\n",
      " [0.6351037  1.0780097 ]], shape=(4, 2), dtype=float32)\n"
     ]
    }
   ],
   "source": [
    "# define the inputs\n",
    "X_1 = inputs_to_play[:, 0, :]  # consider the samples at timestamp 0\n",
    "h_0 = tf.constant(\n",
    "    np.ones(shape=(batch, output_units), dtype=np.float32)\n",
    "),  # let the previous states of all samples be 0-vectors\n",
    "\n",
    "# \"call\" the RNN cell on these inputs\n",
    "output, h_1 = rnn_cell(\n",
    "    inputs=X_1,\n",
    "    states=h_0,\n",
    ")\n",
    "\n",
    "print(output)\n",
    "# same as `print(h_1)`"
   ]
  },
  {
   "attachments": {},
   "cell_type": "markdown",
   "id": "9c08ce39",
   "metadata": {},
   "source": [
    "Below is a figure that shows an illustration of `SimpleRNNCell`.\n",
    "Taking the above case, each $ h_t^i $ is of size 2 since the number of output units is 2. Thus, the final output has shape `(4, 2)` (4 denoting the number of samples (`n` in the diagram)) \n",
    "\n",
    "<img src=\"./images/simpleRNNCell.gif\" width=\"500px\" />"
   ]
  },
  {
   "attachments": {},
   "cell_type": "markdown",
   "id": "33e8f580",
   "metadata": {},
   "source": [
    "## The `SimpleRNN` API <a id=\"simplernn\"></a>\n",
    "The `SimpleRNNCell` API computes the state / output for only the given timestamp.\n",
    "But what if we want the final result, (i.e) the one obtained after performing the required computation across all timestamps of the input? \n",
    "\n",
    "Behold, the `SimpleRNN` which internally uses a `SimpleRNNCell` to keep computing the next state until the last timestamp is reached"
   ]
  },
  {
   "cell_type": "code",
   "execution_count": 113,
   "id": "6a5272a7",
   "metadata": {},
   "outputs": [
    {
     "name": "stdout",
     "output_type": "stream",
     "text": [
      "tf.Tensor(\n",
      "[[-2.3202045  1.1348801]\n",
      " [-2.1530511  0.9799179]\n",
      " [-3.1703815  1.5421298]\n",
      " [-3.1401954  1.3645253]], shape=(4, 2), dtype=float32)\n"
     ]
    }
   ],
   "source": [
    "simple_rnn = tf.keras.layers.SimpleRNN(\n",
    "    units=output_units,\n",
    "    activation='linear'\n",
    ")\n",
    "\n",
    "output = simple_rnn(inputs_to_play) \n",
    "\n",
    "print(output)"
   ]
  },
  {
   "attachments": {},
   "cell_type": "markdown",
   "id": "f3910f8d",
   "metadata": {},
   "source": [
    "Here is a simple illustration\n",
    "\n",
    "<img src=\"./images/simpleRNN.gif\" width=\"600px\" />"
   ]
  },
  {
   "attachments": {},
   "cell_type": "markdown",
   "id": "251e1bde",
   "metadata": {},
   "source": [
    "## Where are the weights? <a id=\"weights\"></a>\n",
    "Use the `get_weights()` method to get the weights of the RNN"
   ]
  },
  {
   "cell_type": "code",
   "execution_count": 114,
   "id": "671a28c7",
   "metadata": {},
   "outputs": [
    {
     "name": "stdout",
     "output_type": "stream",
     "text": [
      "(1, 2)\n",
      "(2, 2)\n",
      "(2,)\n"
     ]
    }
   ],
   "source": [
    "weights = simple_rnn.get_weights()\n",
    "for w in weights:\n",
    "    print(w.shape)"
   ]
  },
  {
   "attachments": {},
   "cell_type": "markdown",
   "id": "8230cf65",
   "metadata": {},
   "source": [
    "On exploring the dimensions of the 3 weight matrices, we arrive at the following conclusion."
   ]
  },
  {
   "cell_type": "code",
   "execution_count": 115,
   "id": "6e1b61bf",
   "metadata": {},
   "outputs": [
    {
     "name": "stdout",
     "output_type": "stream",
     "text": [
      "U = \n",
      "[[-1.1416765  0.6327354]]\n",
      "W = \n",
      "[[ 0.99908745  0.04271416]\n",
      " [-0.04271416  0.99908733]]\n",
      "b = \n",
      "[0. 0.]\n"
     ]
    }
   ],
   "source": [
    "U = weights[0]\n",
    "W = weights[1]\n",
    "b = weights[2]\n",
    "\n",
    "print(\"U = \\n{}\".format(U))\n",
    "print(\"W = \\n{}\".format(W))\n",
    "print(\"b = \\n{}\".format(b))"
   ]
  },
  {
   "attachments": {},
   "cell_type": "markdown",
   "id": "57560c6e",
   "metadata": {},
   "source": [
    "If you use these weights and follow through with the equations, you will end up with the answer that was previously calculated in our `SimpleRNN` example (Yes, I've tried it and it works :) )"
   ]
  },
  {
   "attachments": {},
   "cell_type": "markdown",
   "id": "3cda80f8",
   "metadata": {},
   "source": [
    "## The `StackedRNNCells` API <a id=\"stacked\"></a>\n",
    "What if you wanted the output of one cell to be given as input to another cell? \n",
    "\n",
    "<img src=\"./images/stackedRNNCells.png\" width=\"600px\" />"
   ]
  },
  {
   "attachments": {},
   "cell_type": "markdown",
   "id": "b7bee294",
   "metadata": {},
   "source": [
    "Yes that's possible with the `StackedRNNCells` API. \n",
    "This API wraps given the RNN cells so that it behaves as a single RNN cell.\n",
    "Note here that this again just a *cell*, so the computation is performed for only a single timestamp."
   ]
  },
  {
   "cell_type": "code",
   "execution_count": 4,
   "id": "0fabb903",
   "metadata": {},
   "outputs": [],
   "source": [
    "stacked_rnn = tf.keras.layers.StackedRNNCells(\n",
    "    [\n",
    "        tf.keras.layers.SimpleRNNCell(units=1),\n",
    "        tf.keras.layers.SimpleRNNCell(units=2),\n",
    "    ]\n",
    ")"
   ]
  },
  {
   "attachments": {},
   "cell_type": "markdown",
   "id": "3c6703b5",
   "metadata": {},
   "source": [
    "Note that here we have to define 2 initial states - one for each cell"
   ]
  },
  {
   "cell_type": "code",
   "execution_count": 7,
   "id": "3718ddc9",
   "metadata": {},
   "outputs": [
    {
     "data": {
      "text/plain": [
       "(<tf.Tensor: shape=(4, 1), dtype=float32, numpy=\n",
       " array([[0.71947163],\n",
       "        [0.3826521 ],\n",
       "        [0.2337083 ],\n",
       "        [0.43024176]], dtype=float32)>,\n",
       " <tf.Tensor: shape=(4, 2), dtype=float32, numpy=\n",
       " array([[-0.6549138 ,  0.69779426],\n",
       "        [-0.39431095,  0.42925397],\n",
       "        [-0.24925856,  0.27320802],\n",
       "        [-0.4371829 ,  0.4746568 ]], dtype=float32)>)"
      ]
     },
     "execution_count": 7,
     "metadata": {},
     "output_type": "execute_result"
    }
   ],
   "source": [
    "# new states of both cells are returned\n",
    "h_1"
   ]
  },
  {
   "cell_type": "code",
   "execution_count": 148,
   "id": "727421df",
   "metadata": {},
   "outputs": [],
   "source": [
    "# you can again play with the weights if you want!\n",
    "stacked_rnn_weights = stacked_rnn.get_weights()\n",
    "\n",
    "U1 = stacked_rnn_weights[0]\n",
    "W1 = stacked_rnn_weights[1]\n",
    "b1 = stacked_rnn_weights[2]\n",
    "\n",
    "U2 = stacked_rnn_weights[3]\n",
    "W2 = stacked_rnn_weights[4]\n",
    "b2 = stacked_rnn_weights[5]"
   ]
  },
  {
   "attachments": {},
   "cell_type": "markdown",
   "id": "349f98c3",
   "metadata": {},
   "source": [
    "## The `RNN` API <a id=\"rnn\"></a>\n",
    "The mother of all RNN APIs! This API can be used to wrap any *cell* into an RNN encapsulation so that the input is applied across all timestamps. \n",
    "Just like how `SimpleRNN` uses `SimpleRNNCell` for its internal computation, the `RNN` API takes *any* kind of cell (`SimpleRNNCell`, `StackedRNNCell`, ...) and uses that cell to compute across all timestamps of the input"
   ]
  },
  {
   "attachments": {},
   "cell_type": "markdown",
   "id": "e8488145",
   "metadata": {},
   "source": [
    "<img src=\"./images/RNN.gif\" width=\"600px\">"
   ]
  },
  {
   "cell_type": "code",
   "execution_count": 16,
   "id": "ba481149",
   "metadata": {},
   "outputs": [
    {
     "data": {
      "text/plain": [
       "<tf.Tensor: shape=(4, 2), dtype=float32, numpy=\n",
       "array([[ 0.08811959, -0.6183534 ],\n",
       "       [-0.29053357, -0.10664143],\n",
       "       [-0.3485677 , -0.37520707],\n",
       "       [-0.56441534,  0.13226347]], dtype=float32)>"
      ]
     },
     "execution_count": 16,
     "metadata": {},
     "output_type": "execute_result"
    }
   ],
   "source": [
    "rnn = tf.keras.layers.RNN(\n",
    "    stacked_rnn\n",
    ")\n",
    "\n",
    "output = rnn(\n",
    "    inputs_to_play,\n",
    ")\n",
    "\n",
    "output"
   ]
  }
 ],
 "metadata": {
  "kernelspec": {
   "display_name": "Python 3",
   "language": "python",
   "name": "python3"
  },
  "language_info": {
   "codemirror_mode": {
    "name": "ipython",
    "version": 3
   },
   "file_extension": ".py",
   "mimetype": "text/x-python",
   "name": "python",
   "nbconvert_exporter": "python",
   "pygments_lexer": "ipython3",
   "version": "3.10.10"
  },
  "vscode": {
   "interpreter": {
    "hash": "ee9d5071d31c5c6a0ae3ac8807f08332b559e2b5ca18fcdc1bb7e880f155e85b"
   }
  }
 },
 "nbformat": 4,
 "nbformat_minor": 5
}
