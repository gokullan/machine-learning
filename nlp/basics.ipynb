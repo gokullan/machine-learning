{
 "cells": [
  {
   "attachments": {},
   "cell_type": "markdown",
   "metadata": {},
   "source": [
    "# Natural Language Processing with Tensorflow"
   ]
  },
  {
   "cell_type": "code",
   "execution_count": 2,
   "metadata": {},
   "outputs": [],
   "source": [
    "import tensorflow as tf\n",
    "from tensorflow import keras\n",
    "from keras.preprocessing.text import Tokenizer"
   ]
  },
  {
   "attachments": {},
   "cell_type": "markdown",
   "metadata": {},
   "source": [
    "## Tokenization\n",
    "Representing words with numbers"
   ]
  },
  {
   "cell_type": "code",
   "execution_count": 13,
   "metadata": {},
   "outputs": [],
   "source": [
    "sentences = [\n",
    "    \"I love my cat\",\n",
    "    \"I am my dog\",\n",
    "    \"You love my dog!,\"\n",
    "    \"Don't you forget about me!\",\n",
    "    \"Sometimes giving up is the strong thing\",\n",
    "]"
   ]
  },
  {
   "attachments": {},
   "cell_type": "markdown",
   "metadata": {},
   "source": [
    "To handle words not seen in training samples, use the OOV (Out Of Vocabulary) token "
   ]
  },
  {
   "cell_type": "code",
   "execution_count": 16,
   "metadata": {},
   "outputs": [
    {
     "data": {
      "text/plain": [
       "{'<OOV>': 1,\n",
       " 'my': 2,\n",
       " 'i': 3,\n",
       " 'love': 4,\n",
       " 'dog': 5,\n",
       " 'you': 6,\n",
       " 'cat': 7,\n",
       " 'am': 8,\n",
       " \"don't\": 9,\n",
       " 'forget': 10,\n",
       " 'about': 11,\n",
       " 'me': 12,\n",
       " 'sometimes': 13,\n",
       " 'giving': 14,\n",
       " 'up': 15,\n",
       " 'is': 16,\n",
       " 'the': 17,\n",
       " 'strong': 18,\n",
       " 'thing': 19}"
      ]
     },
     "execution_count": 16,
     "metadata": {},
     "output_type": "execute_result"
    }
   ],
   "source": [
    "tokenizer = Tokenizer(num_words=100, oov_token=\"<OOV>\")\n",
    "tokenizer.fit_on_texts(sentences)\n",
    "word_index = tokenizer.word_index\n",
    "word_index"
   ]
  },
  {
   "attachments": {},
   "cell_type": "markdown",
   "metadata": {},
   "source": [
    "## Sequencing\n",
    "Representing sentences as a sequence of tokens"
   ]
  },
  {
   "cell_type": "code",
   "execution_count": 15,
   "metadata": {},
   "outputs": [
    {
     "data": {
      "text/plain": [
       "[[2, 3, 1, 6],\n",
       " [2, 7, 1, 4],\n",
       " [5, 3, 1, 4, 8, 5, 9, 10, 11],\n",
       " [12, 13, 14, 15, 16, 17, 18]]"
      ]
     },
     "execution_count": 15,
     "metadata": {},
     "output_type": "execute_result"
    }
   ],
   "source": [
    "text_seq = tokenizer.texts_to_sequences(sentences)\n",
    "text_seq"
   ]
  },
  {
   "attachments": {},
   "cell_type": "markdown",
   "metadata": {},
   "source": [
    "### Padding\n",
    "Alternate to padding is using a Ragged Tensor"
   ]
  },
  {
   "cell_type": "code",
   "execution_count": 17,
   "metadata": {},
   "outputs": [],
   "source": [
    "from tensorflow.keras.preprocessing.sequence import pad_sequences"
   ]
  },
  {
   "cell_type": "code",
   "execution_count": 18,
   "metadata": {},
   "outputs": [],
   "source": [
    "padded = pad_sequences(text_seq)"
   ]
  },
  {
   "cell_type": "code",
   "execution_count": 19,
   "metadata": {},
   "outputs": [
    {
     "data": {
      "text/plain": [
       "array([[ 0,  0,  0,  0,  0,  2,  3,  1,  6],\n",
       "       [ 0,  0,  0,  0,  0,  2,  7,  1,  4],\n",
       "       [ 5,  3,  1,  4,  8,  5,  9, 10, 11],\n",
       "       [ 0,  0, 12, 13, 14, 15, 16, 17, 18]])"
      ]
     },
     "execution_count": 19,
     "metadata": {},
     "output_type": "execute_result"
    }
   ],
   "source": [
    "padded"
   ]
  },
  {
   "cell_type": "code",
   "execution_count": null,
   "metadata": {},
   "outputs": [],
   "source": []
  }
 ],
 "metadata": {
  "kernelspec": {
   "display_name": "Python 3",
   "language": "python",
   "name": "python3"
  },
  "language_info": {
   "codemirror_mode": {
    "name": "ipython",
    "version": 3
   },
   "file_extension": ".py",
   "mimetype": "text/x-python",
   "name": "python",
   "nbconvert_exporter": "python",
   "pygments_lexer": "ipython3",
   "version": "3.10.10"
  },
  "orig_nbformat": 4,
  "vscode": {
   "interpreter": {
    "hash": "ee9d5071d31c5c6a0ae3ac8807f08332b559e2b5ca18fcdc1bb7e880f155e85b"
   }
  }
 },
 "nbformat": 4,
 "nbformat_minor": 2
}
